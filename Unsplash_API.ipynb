{
 "cells": [
  {
   "cell_type": "markdown",
   "id": "a3a04df7-192c-40e6-99e2-1b046ad622b1",
   "metadata": {},
   "source": [
    "# Digital image archiving, APIs, and webscraping"
   ]
  },
  {
   "cell_type": "code",
   "execution_count": null,
   "id": "346b67b5-3761-41be-99ad-c7178b3cf07c",
   "metadata": {},
   "outputs": [],
   "source": [
    "![gallery](gallery.jpeg)"
   ]
  },
  {
   "cell_type": "code",
   "execution_count": null,
   "id": "a1e0bedc-b753-43ad-aa18-15350dccd891",
   "metadata": {},
   "outputs": [],
   "source": [
    "import requests\n",
    "import os\n",
    "import re\n",
    "import requests\n",
    "import pandas as pd\n",
    "import getpass\n",
    "from urllib.parse import urlparse\n",
    "import nltk\n",
    "from nltk.stem import WordNetLemmatizer\n",
    "lemmatizer = WordNetLemmatizer()\n",
    "from nltk import word_tokenize\n",
    "nltk.download('stopwords')\n",
    "from nltk.corpus import stopwords\n",
    "stops = set(stopwords.words('english'))\n",
    "import string\n",
    "punct = list(string.punctuation)\n",
    "import seaborn as sns\n",
    "sns.set()"
   ]
  },
  {
   "cell_type": "markdown",
   "id": "d725dc2e-e41e-4f76-90d5-fa6a3b1c8dfe",
   "metadata": {},
   "source": [
    "## How can we programmatically access images in a way that facilitates research?\n",
    "\n",
    "An API (Application Programming Interface) is a set of rules and protocols that allows different software applications to communicate with each other. It defines how requests and responses should be structured, enabling developers to access and use the functionality of another service, library, or platform without needing to understand its internal workings.\n",
    "\n",
    "APIs should be your go-to resource of choice when gathering large quantities of data, as they generally provide this data in structured form, allowing you to easily manipulate it.\n",
    "\n",
    "Microsoft makes Bing image search available as an API; so do other search providers. The Bing API is useful because it gives good metadata on the images it finds. But first, let's look at a more intuitive API."
   ]
  },
  {
   "cell_type": "markdown",
   "id": "a00cf48f-36d0-4b84-a5c9-dab6cdf01ff7",
   "metadata": {},
   "source": [
    "### The Project Gutenberg API\n",
    "\n",
    "[Project Gutenberg](https://www.gutenberg.org/) provides electronic copies of large variety of out-of-copyright texts. It can be accessed using the [Gutendex API](https://gutendex.com/). The `requests` library in python can be used to query this API via the relevant parameters (see the documentation for what these are).  "
   ]
  },
  {
   "cell_type": "code",
   "execution_count": null,
   "id": "56df24e8-dd82-45c1-b61a-2095cd3c0e0c",
   "metadata": {},
   "outputs": [],
   "source": [
    "# Define the API root url:\n",
    "\n",
    "gut = 'https://gutendex.com/books/'"
   ]
  },
  {
   "cell_type": "code",
   "execution_count": null,
   "id": "136a625a-44bd-483b-959c-62e680c594dc",
   "metadata": {},
   "outputs": [],
   "source": [
    "# Query by topic (here, 'death')\n",
    "\n",
    "params = {'topic':'death'} \n",
    "death = requests.get(url = gut, params = params).json() # returns the results as a python dictionary"
   ]
  },
  {
   "cell_type": "code",
   "execution_count": null,
   "id": "d4e5e873-0a9c-4a9b-9e93-3a8ff62b5d17",
   "metadata": {},
   "outputs": [],
   "source": [
    "print(death['results'][2]['summaries'][0])"
   ]
  },
  {
   "cell_type": "markdown",
   "id": "5108e4da-5c77-4ae6-b252-b622f68a87c5",
   "metadata": {},
   "source": [
    "## Unsplash is a free high-quality image API. How can we access it?"
   ]
  },
  {
   "cell_type": "code",
   "execution_count": null,
   "id": "eb159206-abfa-42ab-a2d7-b2e583ffecdb",
   "metadata": {},
   "outputs": [],
   "source": [
    "api_key = \"z_387ySbV7I3U0uEOMhFW2neHnnALBVPCFVw-7-wc7o\"\n",
    "\n",
    "def search_unsplash(query, per_page=10):\n",
    "    \n",
    "    url = \"https://api.unsplash.com/search/photos\"\n",
    "    headers = {\n",
    "        \"Authorization\": f\"Client-ID {api_key}\"\n",
    "    }\n",
    "\n",
    "    params = {\n",
    "        \"query\": query,\n",
    "        \"per_page\": per_page\n",
    "    }\n",
    "    \n",
    "    # Make the API request\n",
    "    response = requests.get(url, headers=headers, params=params)\n",
    "    \n",
    "    # Check if the request was successful\n",
    "    if response.status_code == 200:\n",
    "        data = response.json()\n",
    "        # Extract relevant image details\n",
    "        images = []\n",
    "        for result in data[\"results\"]:\n",
    "            image_info = {\n",
    "                \"description\": result.get(\"description\", \"No description\"),\n",
    "                \"url\": result[\"urls\"][\"regular\"],  # Use \"regular\" for medium-sized images\n",
    "                \"download_url\": result[\"links\"][\"download\"],  # URL to download the image\n",
    "                \"photographer\": result[\"user\"][\"name\"],\n",
    "                \"photographer_profile\": result[\"user\"][\"links\"][\"html\"]\n",
    "            }\n",
    "            images.append(image_info)\n",
    "        images = pd.DataFrame(images)\n",
    "        return images\n",
    "    else:\n",
    "        print(f\"Error: {response.status_code} - {response.text}\")\n",
    "        return None\n",
    "\n",
    "\n",
    "\n",
    "\n",
    "def download_images(image_urls, save_dir=\"unsplash_images\"):\n",
    "    # Create the save directory if it doesn't exist\n",
    "    if not os.path.exists(save_dir):\n",
    "        os.makedirs(save_dir)\n",
    "\n",
    "    # Loop through the list of URLs and download each image\n",
    "    for i, url in enumerate(image_urls):\n",
    "        try:\n",
    "            # Send a GET request to the image URL\n",
    "            response = requests.get(url, stream=True)\n",
    "            response.raise_for_status()  # Raise an error for bad status codes\n",
    "\n",
    "            # Extract the image file name from the URL\n",
    "            file_name = f\"image_{i + 1}.png\"  # You can customize the naming convention\n",
    "            file_path = os.path.join(save_dir, file_name)\n",
    "\n",
    "            # Save the image to the specified directory\n",
    "            with open(file_path, \"wb\") as file:\n",
    "                for chunk in response.iter_content(chunk_size=8192):\n",
    "                    file.write(chunk)\n",
    "            print(f\"Downloaded: {file_path}\")\n",
    "        except requests.exceptions.RequestException as e:\n",
    "            print(f\"Failed to download {url}: {e}\")"
   ]
  },
  {
   "cell_type": "markdown",
   "id": "d5071f37-e4f8-49f9-a0a9-ddb772b13bf0",
   "metadata": {},
   "source": [
    "### Now, let's measure the emotional variation of any text using the VAD norms"
   ]
  },
  {
   "cell_type": "code",
   "execution_count": null,
   "id": "9876ede0-e1ec-421f-afb4-0e44c9ca2f4a",
   "metadata": {},
   "outputs": [],
   "source": [
    "vad = pd.read_csv('vad.csv', index_col = 0)  #VAD norms\n",
    "vad = vad[[\"V.Mean.Sum\", \"A.Mean.Sum\", \"D.Mean.Sum\"]]\n",
    "vad.columns = ['valence', 'arousal', 'dominance']\n",
    "\n",
    "def vad_data(word_list):\n",
    "    word_list = [i.lower() for i in word_list]\n",
    "    words = []\n",
    "    norms = []\n",
    "    \n",
    "    for i in word_list:\n",
    "        if i in vad.index:\n",
    "            norms.append(vad.loc[i])\n",
    "            words.append(i)\n",
    "        else:\n",
    "            pass\n",
    "    norms_vad = pd.DataFrame(norms).mean()\n",
    "    return norms_vad"
   ]
  }
 ],
 "metadata": {
  "kernelspec": {
   "display_name": "Python 3 (ipykernel)",
   "language": "python",
   "name": "python3"
  },
  "language_info": {
   "codemirror_mode": {
    "name": "ipython",
    "version": 3
   },
   "file_extension": ".py",
   "mimetype": "text/x-python",
   "name": "python",
   "nbconvert_exporter": "python",
   "pygments_lexer": "ipython3",
   "version": "3.9.18"
  }
 },
 "nbformat": 4,
 "nbformat_minor": 5
}
